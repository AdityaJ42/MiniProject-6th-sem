{
 "cells": [
  {
   "cell_type": "code",
   "execution_count": 1,
   "metadata": {},
   "outputs": [],
   "source": [
    "import seaborn as sns\n",
    "import pandas as pd\n",
    "import numpy as np\n",
    "import os"
   ]
  },
  {
   "cell_type": "code",
   "execution_count": 2,
   "metadata": {},
   "outputs": [
    {
     "name": "stdout",
     "output_type": "stream",
     "text": [
      "/Users/sahiljajodia/Projects/ML-MiniProject\n"
     ]
    }
   ],
   "source": [
    "path = os.getcwd()\n",
    "print(path)"
   ]
  },
  {
   "cell_type": "code",
   "execution_count": 3,
   "metadata": {},
   "outputs": [
    {
     "name": "stderr",
     "output_type": "stream",
     "text": [
      "/Users/sahiljajodia/Projects/ML-Python/venv/lib/python3.6/site-packages/IPython/core/interactiveshell.py:2785: DtypeWarning: Columns (6,7) have mixed types. Specify dtype option on import or set low_memory=False.\n",
      "  interactivity=interactivity, compiler=compiler, result=result)\n"
     ]
    }
   ],
   "source": [
    "df = pd.read_csv(\"merged_5s.csv\")"
   ]
  },
  {
   "cell_type": "code",
   "execution_count": 4,
   "metadata": {},
   "outputs": [
    {
     "data": {
      "text/html": [
       "<div>\n",
       "<style scoped>\n",
       "    .dataframe tbody tr th:only-of-type {\n",
       "        vertical-align: middle;\n",
       "    }\n",
       "\n",
       "    .dataframe tbody tr th {\n",
       "        vertical-align: top;\n",
       "    }\n",
       "\n",
       "    .dataframe thead th {\n",
       "        text-align: right;\n",
       "    }\n",
       "</style>\n",
       "<table border=\"1\" class=\"dataframe\">\n",
       "  <thead>\n",
       "    <tr style=\"text-align: right;\">\n",
       "      <th></th>\n",
       "      <th>Source IP</th>\n",
       "      <th>Source Port</th>\n",
       "      <th>Destination IP</th>\n",
       "      <th>Destination Port</th>\n",
       "      <th>Protocol</th>\n",
       "      <th>Flow Duration</th>\n",
       "      <th>Flow Bytes/s</th>\n",
       "      <th>Flow Packets/s</th>\n",
       "      <th>Flow IAT Mean</th>\n",
       "      <th>Flow IAT Std</th>\n",
       "      <th>...</th>\n",
       "      <th>Bwd IAT Min</th>\n",
       "      <th>Active Mean</th>\n",
       "      <th>Active Std</th>\n",
       "      <th>Active Max</th>\n",
       "      <th>Active Min</th>\n",
       "      <th>Idle Mean</th>\n",
       "      <th>Idle Std</th>\n",
       "      <th>Idle Max</th>\n",
       "      <th>Idle Min</th>\n",
       "      <th>label</th>\n",
       "    </tr>\n",
       "  </thead>\n",
       "  <tbody>\n",
       "    <tr>\n",
       "      <th>0</th>\n",
       "      <td>10.0.2.15</td>\n",
       "      <td>53913</td>\n",
       "      <td>216.58.208.46</td>\n",
       "      <td>80</td>\n",
       "      <td>6</td>\n",
       "      <td>435</td>\n",
       "      <td>0</td>\n",
       "      <td>4597.7</td>\n",
       "      <td>435.0</td>\n",
       "      <td>0.0</td>\n",
       "      <td>...</td>\n",
       "      <td>0</td>\n",
       "      <td>0</td>\n",
       "      <td>0</td>\n",
       "      <td>0</td>\n",
       "      <td>0</td>\n",
       "      <td>0</td>\n",
       "      <td>0</td>\n",
       "      <td>0</td>\n",
       "      <td>0</td>\n",
       "      <td>nonTOR</td>\n",
       "    </tr>\n",
       "    <tr>\n",
       "      <th>1</th>\n",
       "      <td>10.0.2.15</td>\n",
       "      <td>53913</td>\n",
       "      <td>216.58.208.46</td>\n",
       "      <td>80</td>\n",
       "      <td>6</td>\n",
       "      <td>259</td>\n",
       "      <td>0</td>\n",
       "      <td>7722.01</td>\n",
       "      <td>259.0</td>\n",
       "      <td>0.0</td>\n",
       "      <td>...</td>\n",
       "      <td>0</td>\n",
       "      <td>0</td>\n",
       "      <td>0</td>\n",
       "      <td>0</td>\n",
       "      <td>0</td>\n",
       "      <td>0</td>\n",
       "      <td>0</td>\n",
       "      <td>0</td>\n",
       "      <td>0</td>\n",
       "      <td>nonTOR</td>\n",
       "    </tr>\n",
       "    <tr>\n",
       "      <th>2</th>\n",
       "      <td>10.0.2.15</td>\n",
       "      <td>53913</td>\n",
       "      <td>216.58.208.46</td>\n",
       "      <td>80</td>\n",
       "      <td>6</td>\n",
       "      <td>891</td>\n",
       "      <td>0</td>\n",
       "      <td>2244.67</td>\n",
       "      <td>891.0</td>\n",
       "      <td>0.0</td>\n",
       "      <td>...</td>\n",
       "      <td>0</td>\n",
       "      <td>0</td>\n",
       "      <td>0</td>\n",
       "      <td>0</td>\n",
       "      <td>0</td>\n",
       "      <td>0</td>\n",
       "      <td>0</td>\n",
       "      <td>0</td>\n",
       "      <td>0</td>\n",
       "      <td>nonTOR</td>\n",
       "    </tr>\n",
       "    <tr>\n",
       "      <th>3</th>\n",
       "      <td>10.0.2.15</td>\n",
       "      <td>53913</td>\n",
       "      <td>216.58.208.46</td>\n",
       "      <td>80</td>\n",
       "      <td>6</td>\n",
       "      <td>1074</td>\n",
       "      <td>0</td>\n",
       "      <td>1862.2</td>\n",
       "      <td>1074.0</td>\n",
       "      <td>0.0</td>\n",
       "      <td>...</td>\n",
       "      <td>0</td>\n",
       "      <td>0</td>\n",
       "      <td>0</td>\n",
       "      <td>0</td>\n",
       "      <td>0</td>\n",
       "      <td>0</td>\n",
       "      <td>0</td>\n",
       "      <td>0</td>\n",
       "      <td>0</td>\n",
       "      <td>nonTOR</td>\n",
       "    </tr>\n",
       "    <tr>\n",
       "      <th>4</th>\n",
       "      <td>10.0.2.15</td>\n",
       "      <td>53913</td>\n",
       "      <td>216.58.208.46</td>\n",
       "      <td>80</td>\n",
       "      <td>6</td>\n",
       "      <td>315</td>\n",
       "      <td>0</td>\n",
       "      <td>6349.21</td>\n",
       "      <td>315.0</td>\n",
       "      <td>0.0</td>\n",
       "      <td>...</td>\n",
       "      <td>0</td>\n",
       "      <td>0</td>\n",
       "      <td>0</td>\n",
       "      <td>0</td>\n",
       "      <td>0</td>\n",
       "      <td>0</td>\n",
       "      <td>0</td>\n",
       "      <td>0</td>\n",
       "      <td>0</td>\n",
       "      <td>nonTOR</td>\n",
       "    </tr>\n",
       "  </tbody>\n",
       "</table>\n",
       "<p>5 rows × 29 columns</p>\n",
       "</div>"
      ],
      "text/plain": [
       "   Source IP   Source Port  Destination IP   Destination Port   Protocol  \\\n",
       "0  10.0.2.15         53913   216.58.208.46                 80          6   \n",
       "1  10.0.2.15         53913   216.58.208.46                 80          6   \n",
       "2  10.0.2.15         53913   216.58.208.46                 80          6   \n",
       "3  10.0.2.15         53913   216.58.208.46                 80          6   \n",
       "4  10.0.2.15         53913   216.58.208.46                 80          6   \n",
       "\n",
       "    Flow Duration  Flow Bytes/s  Flow Packets/s   Flow IAT Mean  \\\n",
       "0             435             0          4597.7           435.0   \n",
       "1             259             0         7722.01           259.0   \n",
       "2             891             0         2244.67           891.0   \n",
       "3            1074             0          1862.2          1074.0   \n",
       "4             315             0         6349.21           315.0   \n",
       "\n",
       "    Flow IAT Std   ...     Bwd IAT Min  Active Mean   Active Std   Active Max  \\\n",
       "0            0.0   ...               0            0            0            0   \n",
       "1            0.0   ...               0            0            0            0   \n",
       "2            0.0   ...               0            0            0            0   \n",
       "3            0.0   ...               0            0            0            0   \n",
       "4            0.0   ...               0            0            0            0   \n",
       "\n",
       "    Active Min  Idle Mean   Idle Std   Idle Max   Idle Min   label  \n",
       "0            0          0          0          0          0  nonTOR  \n",
       "1            0          0          0          0          0  nonTOR  \n",
       "2            0          0          0          0          0  nonTOR  \n",
       "3            0          0          0          0          0  nonTOR  \n",
       "4            0          0          0          0          0  nonTOR  \n",
       "\n",
       "[5 rows x 29 columns]"
      ]
     },
     "execution_count": 4,
     "metadata": {},
     "output_type": "execute_result"
    }
   ],
   "source": [
    "df.head()"
   ]
  },
  {
   "cell_type": "code",
   "execution_count": 5,
   "metadata": {},
   "outputs": [],
   "source": [
    "df = df.drop(columns=[\"Source IP\", \" Destination IP\", \" Source Port\", \" Destination Port\", \" Flow Bytes/s\", \" Flow Packets/s\"])"
   ]
  },
  {
   "cell_type": "code",
   "execution_count": 6,
   "metadata": {},
   "outputs": [
    {
     "data": {
      "text/html": [
       "<div>\n",
       "<style scoped>\n",
       "    .dataframe tbody tr th:only-of-type {\n",
       "        vertical-align: middle;\n",
       "    }\n",
       "\n",
       "    .dataframe tbody tr th {\n",
       "        vertical-align: top;\n",
       "    }\n",
       "\n",
       "    .dataframe thead th {\n",
       "        text-align: right;\n",
       "    }\n",
       "</style>\n",
       "<table border=\"1\" class=\"dataframe\">\n",
       "  <thead>\n",
       "    <tr style=\"text-align: right;\">\n",
       "      <th></th>\n",
       "      <th>Protocol</th>\n",
       "      <th>Flow Duration</th>\n",
       "      <th>Flow IAT Mean</th>\n",
       "      <th>Flow IAT Std</th>\n",
       "      <th>Flow IAT Max</th>\n",
       "      <th>Flow IAT Min</th>\n",
       "      <th>Fwd IAT Mean</th>\n",
       "      <th>Fwd IAT Std</th>\n",
       "      <th>Fwd IAT Max</th>\n",
       "      <th>Fwd IAT Min</th>\n",
       "      <th>...</th>\n",
       "      <th>Bwd IAT Min</th>\n",
       "      <th>Active Mean</th>\n",
       "      <th>Active Std</th>\n",
       "      <th>Active Max</th>\n",
       "      <th>Active Min</th>\n",
       "      <th>Idle Mean</th>\n",
       "      <th>Idle Std</th>\n",
       "      <th>Idle Max</th>\n",
       "      <th>Idle Min</th>\n",
       "      <th>label</th>\n",
       "    </tr>\n",
       "  </thead>\n",
       "  <tbody>\n",
       "    <tr>\n",
       "      <th>0</th>\n",
       "      <td>6</td>\n",
       "      <td>435</td>\n",
       "      <td>435.0</td>\n",
       "      <td>0.0</td>\n",
       "      <td>435</td>\n",
       "      <td>435</td>\n",
       "      <td>0.0</td>\n",
       "      <td>0.0</td>\n",
       "      <td>0</td>\n",
       "      <td>0</td>\n",
       "      <td>...</td>\n",
       "      <td>0</td>\n",
       "      <td>0</td>\n",
       "      <td>0</td>\n",
       "      <td>0</td>\n",
       "      <td>0</td>\n",
       "      <td>0</td>\n",
       "      <td>0</td>\n",
       "      <td>0</td>\n",
       "      <td>0</td>\n",
       "      <td>nonTOR</td>\n",
       "    </tr>\n",
       "    <tr>\n",
       "      <th>1</th>\n",
       "      <td>6</td>\n",
       "      <td>259</td>\n",
       "      <td>259.0</td>\n",
       "      <td>0.0</td>\n",
       "      <td>259</td>\n",
       "      <td>259</td>\n",
       "      <td>0.0</td>\n",
       "      <td>0.0</td>\n",
       "      <td>0</td>\n",
       "      <td>0</td>\n",
       "      <td>...</td>\n",
       "      <td>0</td>\n",
       "      <td>0</td>\n",
       "      <td>0</td>\n",
       "      <td>0</td>\n",
       "      <td>0</td>\n",
       "      <td>0</td>\n",
       "      <td>0</td>\n",
       "      <td>0</td>\n",
       "      <td>0</td>\n",
       "      <td>nonTOR</td>\n",
       "    </tr>\n",
       "    <tr>\n",
       "      <th>2</th>\n",
       "      <td>6</td>\n",
       "      <td>891</td>\n",
       "      <td>891.0</td>\n",
       "      <td>0.0</td>\n",
       "      <td>891</td>\n",
       "      <td>891</td>\n",
       "      <td>0.0</td>\n",
       "      <td>0.0</td>\n",
       "      <td>0</td>\n",
       "      <td>0</td>\n",
       "      <td>...</td>\n",
       "      <td>0</td>\n",
       "      <td>0</td>\n",
       "      <td>0</td>\n",
       "      <td>0</td>\n",
       "      <td>0</td>\n",
       "      <td>0</td>\n",
       "      <td>0</td>\n",
       "      <td>0</td>\n",
       "      <td>0</td>\n",
       "      <td>nonTOR</td>\n",
       "    </tr>\n",
       "    <tr>\n",
       "      <th>3</th>\n",
       "      <td>6</td>\n",
       "      <td>1074</td>\n",
       "      <td>1074.0</td>\n",
       "      <td>0.0</td>\n",
       "      <td>1074</td>\n",
       "      <td>1074</td>\n",
       "      <td>0.0</td>\n",
       "      <td>0.0</td>\n",
       "      <td>0</td>\n",
       "      <td>0</td>\n",
       "      <td>...</td>\n",
       "      <td>0</td>\n",
       "      <td>0</td>\n",
       "      <td>0</td>\n",
       "      <td>0</td>\n",
       "      <td>0</td>\n",
       "      <td>0</td>\n",
       "      <td>0</td>\n",
       "      <td>0</td>\n",
       "      <td>0</td>\n",
       "      <td>nonTOR</td>\n",
       "    </tr>\n",
       "    <tr>\n",
       "      <th>4</th>\n",
       "      <td>6</td>\n",
       "      <td>315</td>\n",
       "      <td>315.0</td>\n",
       "      <td>0.0</td>\n",
       "      <td>315</td>\n",
       "      <td>315</td>\n",
       "      <td>0.0</td>\n",
       "      <td>0.0</td>\n",
       "      <td>0</td>\n",
       "      <td>0</td>\n",
       "      <td>...</td>\n",
       "      <td>0</td>\n",
       "      <td>0</td>\n",
       "      <td>0</td>\n",
       "      <td>0</td>\n",
       "      <td>0</td>\n",
       "      <td>0</td>\n",
       "      <td>0</td>\n",
       "      <td>0</td>\n",
       "      <td>0</td>\n",
       "      <td>nonTOR</td>\n",
       "    </tr>\n",
       "  </tbody>\n",
       "</table>\n",
       "<p>5 rows × 23 columns</p>\n",
       "</div>"
      ],
      "text/plain": [
       "    Protocol   Flow Duration   Flow IAT Mean   Flow IAT Std   Flow IAT Max  \\\n",
       "0          6             435           435.0            0.0            435   \n",
       "1          6             259           259.0            0.0            259   \n",
       "2          6             891           891.0            0.0            891   \n",
       "3          6            1074          1074.0            0.0           1074   \n",
       "4          6             315           315.0            0.0            315   \n",
       "\n",
       "    Flow IAT Min  Fwd IAT Mean   Fwd IAT Std   Fwd IAT Max   Fwd IAT Min  \\\n",
       "0            435           0.0           0.0             0             0   \n",
       "1            259           0.0           0.0             0             0   \n",
       "2            891           0.0           0.0             0             0   \n",
       "3           1074           0.0           0.0             0             0   \n",
       "4            315           0.0           0.0             0             0   \n",
       "\n",
       "    ...     Bwd IAT Min  Active Mean   Active Std   Active Max   Active Min  \\\n",
       "0   ...               0            0            0            0            0   \n",
       "1   ...               0            0            0            0            0   \n",
       "2   ...               0            0            0            0            0   \n",
       "3   ...               0            0            0            0            0   \n",
       "4   ...               0            0            0            0            0   \n",
       "\n",
       "   Idle Mean   Idle Std   Idle Max   Idle Min   label  \n",
       "0          0          0          0          0  nonTOR  \n",
       "1          0          0          0          0  nonTOR  \n",
       "2          0          0          0          0  nonTOR  \n",
       "3          0          0          0          0  nonTOR  \n",
       "4          0          0          0          0  nonTOR  \n",
       "\n",
       "[5 rows x 23 columns]"
      ]
     },
     "execution_count": 6,
     "metadata": {},
     "output_type": "execute_result"
    }
   ],
   "source": [
    "df.head()"
   ]
  },
  {
   "cell_type": "code",
   "execution_count": 7,
   "metadata": {},
   "outputs": [
    {
     "data": {
      "text/plain": [
       "Index([' Protocol', ' Flow Duration', ' Flow IAT Mean', ' Flow IAT Std',\n",
       "       ' Flow IAT Max', ' Flow IAT Min', 'Fwd IAT Mean', ' Fwd IAT Std',\n",
       "       ' Fwd IAT Max', ' Fwd IAT Min', 'Bwd IAT Mean', ' Bwd IAT Std',\n",
       "       ' Bwd IAT Max', ' Bwd IAT Min', 'Active Mean', ' Active Std',\n",
       "       ' Active Max', ' Active Min', 'Idle Mean', ' Idle Std', ' Idle Max',\n",
       "       ' Idle Min', 'label'],\n",
       "      dtype='object')"
      ]
     },
     "execution_count": 7,
     "metadata": {},
     "output_type": "execute_result"
    }
   ],
   "source": [
    "len(df)\n",
    "df.columns"
   ]
  },
  {
   "cell_type": "code",
   "execution_count": 8,
   "metadata": {},
   "outputs": [],
   "source": [
    "# df[\" Flow Bytes/s\"] = df[' Flow Bytes/s'].astype('float64')\n",
    "# df[\" Flow Packets/s\"] = df[' Flow Packets/s'].astype('float64')"
   ]
  },
  {
   "cell_type": "code",
   "execution_count": 9,
   "metadata": {},
   "outputs": [],
   "source": [
    "X = df.iloc[:, :-1].values\n",
    "y = df.iloc[:, -1].values\n"
   ]
  },
  {
   "cell_type": "code",
   "execution_count": 10,
   "metadata": {},
   "outputs": [
    {
     "name": "stderr",
     "output_type": "stream",
     "text": [
      "/Users/sahiljajodia/Projects/ML-Python/venv/lib/python3.6/site-packages/sklearn/ensemble/weight_boosting.py:29: DeprecationWarning: numpy.core.umath_tests is an internal NumPy module and should not be imported. It will be removed in a future NumPy release.\n",
      "  from numpy.core.umath_tests import inner1d\n"
     ]
    }
   ],
   "source": [
    "from sklearn.model_selection import train_test_split\n",
    "from sklearn.linear_model import LogisticRegression\n",
    "from sklearn.tree import DecisionTreeClassifier\n",
    "from sklearn.ensemble import RandomForestClassifier"
   ]
  },
  {
   "cell_type": "code",
   "execution_count": 11,
   "metadata": {},
   "outputs": [],
   "source": [
    "X_train, X_test, y_train, y_test = train_test_split(X, y, test_size=0.25, random_state=0)"
   ]
  },
  {
   "cell_type": "code",
   "execution_count": 10,
   "metadata": {},
   "outputs": [],
   "source": [
    "treeClassifier = DecisionTreeClassifier()"
   ]
  },
  {
   "cell_type": "code",
   "execution_count": 11,
   "metadata": {},
   "outputs": [
    {
     "data": {
      "text/plain": [
       "DecisionTreeClassifier(class_weight=None, criterion='gini', max_depth=None,\n",
       "            max_features=None, max_leaf_nodes=None,\n",
       "            min_impurity_decrease=0.0, min_impurity_split=None,\n",
       "            min_samples_leaf=1, min_samples_split=2,\n",
       "            min_weight_fraction_leaf=0.0, presort=False, random_state=None,\n",
       "            splitter='best')"
      ]
     },
     "execution_count": 11,
     "metadata": {},
     "output_type": "execute_result"
    }
   ],
   "source": [
    "treeClassifier.fit(np.nan_to_num(X_train), y_train)"
   ]
  },
  {
   "cell_type": "code",
   "execution_count": 12,
   "metadata": {},
   "outputs": [
    {
     "data": {
      "text/plain": [
       "0.965033968359542"
      ]
     },
     "execution_count": 12,
     "metadata": {},
     "output_type": "execute_result"
    }
   ],
   "source": [
    "treeClassifier.score(np.nan_to_num(X_test), y_test)"
   ]
  },
  {
   "cell_type": "code",
   "execution_count": 70,
   "metadata": {},
   "outputs": [],
   "source": [
    "clf = RandomForestClassifier(n_estimators=20, max_depth=100, random_state=0)"
   ]
  },
  {
   "cell_type": "code",
   "execution_count": 71,
   "metadata": {},
   "outputs": [
    {
     "data": {
      "text/plain": [
       "RandomForestClassifier(bootstrap=True, class_weight=None, criterion='gini',\n",
       "            max_depth=100, max_features='auto', max_leaf_nodes=None,\n",
       "            min_impurity_decrease=0.0, min_impurity_split=None,\n",
       "            min_samples_leaf=1, min_samples_split=2,\n",
       "            min_weight_fraction_leaf=0.0, n_estimators=20, n_jobs=1,\n",
       "            oob_score=False, random_state=0, verbose=0, warm_start=False)"
      ]
     },
     "execution_count": 71,
     "metadata": {},
     "output_type": "execute_result"
    }
   ],
   "source": [
    "clf.fit(np.nan_to_num(X_train), y_train)"
   ]
  },
  {
   "cell_type": "code",
   "execution_count": 72,
   "metadata": {},
   "outputs": [
    {
     "data": {
      "text/plain": [
       "0.9764834433939855"
      ]
     },
     "execution_count": 72,
     "metadata": {},
     "output_type": "execute_result"
    }
   ],
   "source": [
    "clf.score(np.nan_to_num(X_test), y_test)"
   ]
  },
  {
   "cell_type": "code",
   "execution_count": 14,
   "metadata": {},
   "outputs": [],
   "source": [
    "import torch"
   ]
  },
  {
   "cell_type": "code",
   "execution_count": null,
   "metadata": {},
   "outputs": [],
   "source": [
    "class Logistic(torch.nn.Module):\n",
    "    def __init__(self, D_in, H, D_out):\n",
    "        super(Logistic, self).__init__()\n",
    "        self.linear1 = torch.nn.Linear(D_in, H)\n",
    "        self.sigmoid = torch.nn.Sigmoid(H, D_out)\n",
    "        \n",
    "    def forward(self, x):\n",
    "        h_relu = self.linear1(x).clamp(min=0)\n",
    "        y_pred = self.Sigmoid(h_relu)\n",
    "        return y_pred\n",
    "    \n",
    "    \n",
    "N, D_in, H, D_out = 64, 1000, 100, 10"
   ]
  },
  {
   "cell_type": "code",
   "execution_count": 1,
   "metadata": {},
   "outputs": [
    {
     "name": "stdout",
     "output_type": "stream",
     "text": [
      "\u001b[33mYou are using pip version 9.0.1, however version 19.0.3 is available.\r\n",
      "You should consider upgrading via the 'pip install --upgrade pip' command.\u001b[0m\r\n"
     ]
    }
   ],
   "source": [
    "!pip freeze | grep fast"
   ]
  },
  {
   "cell_type": "code",
   "execution_count": 2,
   "metadata": {},
   "outputs": [
    {
     "name": "stdout",
     "output_type": "stream",
     "text": [
      "Collecting fastai\n",
      "  Downloading https://files.pythonhosted.org/packages/44/cc/dcc702cf43bb8c908d172e5be156615928f962366a20834c320cbca2b9d0/fastai-1.0.51-py3-none-any.whl (214kB)\n",
      "\u001b[K    100% |████████████████████████████████| 215kB 3.0MB/s ta 0:00:01\n",
      "\u001b[?25hRequirement already satisfied: packaging in /Users/sahiljajodia/Projects/ML-Python/venv/lib/python3.6/site-packages (from fastai)\n",
      "Collecting fastprogress>=0.1.19 (from fastai)\n",
      "  Downloading https://files.pythonhosted.org/packages/86/30/01f597392e4e7b4982f387028da941e1fd60a8d53511d17225858d87fb22/fastprogress-0.1.20-py3-none-any.whl\n",
      "Collecting typing (from fastai)\n",
      "  Downloading https://files.pythonhosted.org/packages/4a/bd/eee1157fc2d8514970b345d69cb9975dcd1e42cd7e61146ed841f6e68309/typing-3.6.6-py3-none-any.whl\n",
      "Collecting spacy>=2.0.18 (from fastai)\n",
      "  Downloading https://files.pythonhosted.org/packages/55/2f/e4a9ab232152160f2f3e945d8e3f8e19558a63cbf0acc29a31c4121d95f3/spacy-2.1.3-cp36-cp36m-macosx_10_6_intel.macosx_10_9_intel.macosx_10_9_x86_64.macosx_10_10_intel.macosx_10_10_x86_64.whl (31.3MB)\n",
      "\u001b[K    100% |████████████████████████████████| 31.3MB 39kB/s eta 0:00:011   18% |█████▉                          | 5.7MB 5.4MB/s eta 0:00:05    68% |█████████████████████▉          | 21.4MB 5.3MB/s eta 0:00:02\n",
      "\u001b[?25hRequirement already satisfied: requests in /Users/sahiljajodia/Projects/ML-Python/venv/lib/python3.6/site-packages (from fastai)\n",
      "Collecting beautifulsoup4 (from fastai)\n",
      "  Downloading https://files.pythonhosted.org/packages/1d/5d/3260694a59df0ec52f8b4883f5d23b130bc237602a1411fa670eae12351e/beautifulsoup4-4.7.1-py3-none-any.whl (94kB)\n",
      "\u001b[K    100% |████████████████████████████████| 102kB 3.7MB/s a 0:00:011\n",
      "\u001b[?25hRequirement already satisfied: scipy in /Users/sahiljajodia/Projects/ML-Python/venv/lib/python3.6/site-packages (from fastai)\n",
      "Collecting pynvx>=1.0.0; platform_system == \"Darwin\" (from fastai)\n",
      "  Downloading https://files.pythonhosted.org/packages/77/52/e47bd2223370427d2bbff861504651895ed1ba22ca3f330d61349881c949/pynvx-1.0.0-cp36-cp36m-macosx_10_7_x86_64.whl (117kB)\n",
      "\u001b[K    100% |████████████████████████████████| 122kB 4.3MB/s ta 0:00:01\n",
      "\u001b[?25hRequirement already satisfied: Pillow in /Users/sahiljajodia/Projects/ML-Python/venv/lib/python3.6/site-packages (from fastai)\n",
      "Collecting bottleneck (from fastai)\n",
      "  Downloading https://files.pythonhosted.org/packages/05/ae/cedf5323f398ab4e4ff92d6c431a3e1c6a186f9b41ab3e8258dff786a290/Bottleneck-1.2.1.tar.gz (105kB)\n",
      "\u001b[K    100% |████████████████████████████████| 112kB 3.7MB/s ta 0:00:01\n",
      "\u001b[?25hRequirement already satisfied: pandas in /Users/sahiljajodia/Projects/ML-Python/venv/lib/python3.6/site-packages (from fastai)\n",
      "Requirement already satisfied: matplotlib in /Users/sahiljajodia/Projects/ML-Python/venv/lib/python3.6/site-packages (from fastai)\n",
      "Collecting numexpr (from fastai)\n",
      "  Downloading https://files.pythonhosted.org/packages/a4/2c/71676625624fe67b8ea2236455ceaed634bcef995bbe250f014c5d9508fd/numexpr-2.6.9-cp36-cp36m-macosx_10_6_intel.macosx_10_9_intel.macosx_10_9_x86_64.macosx_10_10_intel.macosx_10_10_x86_64.whl (182kB)\n",
      "\u001b[K    100% |████████████████████████████████| 184kB 1.8MB/s ta 0:00:01\n",
      "\u001b[?25hCollecting numpy>=1.15 (from fastai)\n",
      "  Using cached https://files.pythonhosted.org/packages/93/0e/30aaa357c3065957344b240482818eef31d4080f73dfa5f1ef7dcd8744d2/numpy-1.16.2-cp36-cp36m-macosx_10_6_intel.macosx_10_9_intel.macosx_10_9_x86_64.macosx_10_10_intel.macosx_10_10_x86_64.whl\n",
      "Requirement already satisfied: pyyaml in /Users/sahiljajodia/Projects/ML-Python/venv/lib/python3.6/site-packages (from fastai)\n",
      "Requirement already satisfied: torchvision in /Users/sahiljajodia/Projects/ML-Python/venv/lib/python3.6/site-packages (from fastai)\n",
      "Collecting dataclasses; python_version < \"3.7\" (from fastai)\n",
      "  Downloading https://files.pythonhosted.org/packages/26/2f/1095cdc2868052dd1e64520f7c0d5c8c550ad297e944e641dbf1ffbb9a5d/dataclasses-0.6-py3-none-any.whl\n",
      "Collecting nvidia-ml-py3 (from fastai)\n",
      "  Downloading https://files.pythonhosted.org/packages/6d/64/cce82bddb80c0b0f5c703bbdafa94bfb69a1c5ad7a79cff00b482468f0d3/nvidia-ml-py3-7.352.0.tar.gz\n",
      "Requirement already satisfied: torch>=1.0.0 in /Users/sahiljajodia/Projects/ML-Python/venv/lib/python3.6/site-packages (from fastai)\n",
      "Requirement already satisfied: six in /Users/sahiljajodia/Projects/ML-Python/venv/lib/python3.6/site-packages (from packaging->fastai)\n",
      "Requirement already satisfied: pyparsing>=2.0.2 in /Users/sahiljajodia/Projects/ML-Python/venv/lib/python3.6/site-packages (from packaging->fastai)\n",
      "Collecting wasabi<1.1.0,>=0.2.0 (from spacy>=2.0.18->fastai)\n",
      "  Downloading https://files.pythonhosted.org/packages/76/6c/0376977df1ba9f0ec27835d80456d9284c79737cb5205649451db1181f01/wasabi-0.2.1-py3-none-any.whl\n",
      "Collecting cymem<2.1.0,>=2.0.2 (from spacy>=2.0.18->fastai)\n",
      "  Downloading https://files.pythonhosted.org/packages/db/6e/c6d1650f09b8b2910f149ec7c51fd2298e0e93a657f4496d4636c0a43675/cymem-2.0.2-cp36-cp36m-macosx_10_6_intel.macosx_10_9_intel.macosx_10_9_x86_64.macosx_10_10_intel.macosx_10_10_x86_64.whl (52kB)\n",
      "\u001b[K    100% |████████████████████████████████| 61kB 3.1MB/s ta 0:00:01\n",
      "\u001b[?25hCollecting srsly<1.1.0,>=0.0.5 (from spacy>=2.0.18->fastai)\n",
      "  Downloading https://files.pythonhosted.org/packages/ff/9f/19db645dcc2798e04b12f66859af69e421d76ae63100171d670ec5029f63/srsly-0.0.5-cp36-cp36m-macosx_10_6_intel.macosx_10_9_intel.macosx_10_9_x86_64.macosx_10_10_intel.macosx_10_10_x86_64.whl (273kB)\n",
      "\u001b[K    100% |████████████████████████████████| 276kB 2.2MB/s ta 0:00:01\n",
      "\u001b[?25hCollecting preshed<2.1.0,>=2.0.1 (from spacy>=2.0.18->fastai)\n",
      "  Downloading https://files.pythonhosted.org/packages/cb/5a/4b6f2035443e463a326e3a81863f2b4850be76b4538fd4931b1aa63f79b6/preshed-2.0.1-cp36-cp36m-macosx_10_6_intel.macosx_10_9_intel.macosx_10_9_x86_64.macosx_10_10_intel.macosx_10_10_x86_64.whl (148kB)\n",
      "\u001b[K    100% |████████████████████████████████| 153kB 2.7MB/s ta 0:00:01\n",
      "\u001b[?25hCollecting plac<1.0.0,>=0.9.6 (from spacy>=2.0.18->fastai)\n",
      "  Downloading https://files.pythonhosted.org/packages/9e/9b/62c60d2f5bc135d2aa1d8c8a86aaf84edb719a59c7f11a4316259e61a298/plac-0.9.6-py2.py3-none-any.whl\n",
      "Requirement already satisfied: jsonschema<3.0.0,>=2.6.0 in /Users/sahiljajodia/Projects/ML-Python/venv/lib/python3.6/site-packages (from spacy>=2.0.18->fastai)\n",
      "Collecting blis<0.3.0,>=0.2.2 (from spacy>=2.0.18->fastai)\n",
      "  Downloading https://files.pythonhosted.org/packages/d1/92/84e017b19d988c55ef2e6fa50e51522f3a23a6461ef21f308d20b19dbe0c/blis-0.2.4-cp36-cp36m-macosx_10_6_intel.macosx_10_9_intel.macosx_10_9_x86_64.macosx_10_10_intel.macosx_10_10_x86_64.whl (3.0MB)\n",
      "\u001b[K    100% |████████████████████████████████| 3.0MB 357kB/s ta 0:00:01\n",
      "\u001b[?25hCollecting murmurhash<1.1.0,>=0.28.0 (from spacy>=2.0.18->fastai)\n",
      "  Downloading https://files.pythonhosted.org/packages/cd/0e/cdb17db34b3b94d1c1f3404d7ffc6c735c323b7cfbf065ae95f56f12a4a8/murmurhash-1.0.2-cp36-cp36m-macosx_10_6_intel.macosx_10_9_intel.macosx_10_9_x86_64.macosx_10_10_intel.macosx_10_10_x86_64.whl\n",
      "Collecting thinc<7.1.0,>=7.0.2 (from spacy>=2.0.18->fastai)\n",
      "  Downloading https://files.pythonhosted.org/packages/4d/76/45c09c2f511f6674bc2b25ac4b12be1c64b9f5d6a8eaaff77c672094dc7e/thinc-7.0.4-cp36-cp36m-macosx_10_6_intel.macosx_10_9_intel.macosx_10_9_x86_64.macosx_10_10_intel.macosx_10_10_x86_64.whl (2.9MB)\n",
      "\u001b[K    100% |████████████████████████████████| 2.9MB 361kB/s ta 0:00:01\n",
      "\u001b[?25hRequirement already satisfied: urllib3<1.24,>=1.21.1 in /Users/sahiljajodia/Projects/ML-Python/venv/lib/python3.6/site-packages (from requests->fastai)\n",
      "Requirement already satisfied: certifi>=2017.4.17 in /Users/sahiljajodia/Projects/ML-Python/venv/lib/python3.6/site-packages (from requests->fastai)\n",
      "Requirement already satisfied: chardet<3.1.0,>=3.0.2 in /Users/sahiljajodia/Projects/ML-Python/venv/lib/python3.6/site-packages (from requests->fastai)\n",
      "Requirement already satisfied: idna<2.8,>=2.5 in /Users/sahiljajodia/Projects/ML-Python/venv/lib/python3.6/site-packages (from requests->fastai)\n",
      "Collecting soupsieve>=1.2 (from beautifulsoup4->fastai)\n",
      "  Downloading https://files.pythonhosted.org/packages/c9/f8/e54b1d771ed4fab66b3fa1c178e137a3c73d84fb6f64329bddf0da5a371c/soupsieve-1.9-py2.py3-none-any.whl\n",
      "Requirement already satisfied: pytz>=2011k in /Users/sahiljajodia/Projects/ML-Python/venv/lib/python3.6/site-packages (from pandas->fastai)\n",
      "Requirement already satisfied: python-dateutil>=2 in /Users/sahiljajodia/Projects/ML-Python/venv/lib/python3.6/site-packages (from pandas->fastai)\n",
      "Requirement already satisfied: cycler>=0.10 in /Users/sahiljajodia/Projects/ML-Python/venv/lib/python3.6/site-packages (from matplotlib->fastai)\n"
     ]
    },
    {
     "name": "stdout",
     "output_type": "stream",
     "text": [
      "Collecting tqdm<5.0.0,>=4.10.0 (from thinc<7.1.0,>=7.0.2->spacy>=2.0.18->fastai)\n",
      "  Using cached https://files.pythonhosted.org/packages/6c/4b/c38b5144cf167c4f52288517436ccafefe9dc01b8d1c190e18a6b154cd4a/tqdm-4.31.1-py2.py3-none-any.whl\n",
      "Building wheels for collected packages: bottleneck, nvidia-ml-py3\n",
      "  Running setup.py bdist_wheel for bottleneck ... \u001b[?25ldone\n",
      "\u001b[?25h  Stored in directory: /Users/sahiljajodia/Library/Caches/pip/wheels/f2/bf/ec/e0f39aa27001525ad455139ee57ec7d0776fe074dfd78c97e4\n",
      "  Running setup.py bdist_wheel for nvidia-ml-py3 ... \u001b[?25ldone\n",
      "\u001b[?25h  Stored in directory: /Users/sahiljajodia/Library/Caches/pip/wheels/e4/1d/06/640c93f5270d67d0247f30be91f232700d19023f9e66d735c7\n",
      "Successfully built bottleneck nvidia-ml-py3\n",
      "Installing collected packages: fastprogress, typing, wasabi, cymem, srsly, preshed, plac, numpy, blis, murmurhash, tqdm, thinc, spacy, soupsieve, beautifulsoup4, pynvx, bottleneck, numexpr, dataclasses, nvidia-ml-py3, fastai\n",
      "  Found existing installation: numpy 1.14.0\n",
      "    Uninstalling numpy-1.14.0:\n",
      "      Successfully uninstalled numpy-1.14.0\n",
      "Successfully installed beautifulsoup4-4.7.1 blis-0.2.4 bottleneck-1.2.1 cymem-2.0.2 dataclasses-0.6 fastai-1.0.51 fastprogress-0.1.20 murmurhash-1.0.2 numexpr-2.6.9 numpy-1.16.2 nvidia-ml-py3-7.352.0 plac-0.9.6 preshed-2.0.1 pynvx-1.0.0 soupsieve-1.9 spacy-2.1.3 srsly-0.0.5 thinc-7.0.4 tqdm-4.31.1 typing-3.6.6 wasabi-0.2.1\n",
      "\u001b[33mYou are using pip version 9.0.1, however version 19.0.3 is available.\n",
      "You should consider upgrading via the 'pip install --upgrade pip' command.\u001b[0m\n"
     ]
    }
   ],
   "source": [
    "!pip3 install fastai"
   ]
  },
  {
   "cell_type": "code",
   "execution_count": 32,
   "metadata": {},
   "outputs": [],
   "source": [
    "from fastai.tabular import *"
   ]
  },
  {
   "cell_type": "code",
   "execution_count": 33,
   "metadata": {},
   "outputs": [],
   "source": [
    "procs = [FillMissing, Categorify, Normalize]"
   ]
  },
  {
   "cell_type": "code",
   "execution_count": 74,
   "metadata": {},
   "outputs": [],
   "source": [
    "valid_idx = range(len(df)-10000, len(df))"
   ]
  },
  {
   "cell_type": "code",
   "execution_count": 35,
   "metadata": {},
   "outputs": [],
   "source": [
    "dep_var = 'label'\n",
    "cat_names = [' Protocol']"
   ]
  },
  {
   "cell_type": "code",
   "execution_count": 36,
   "metadata": {},
   "outputs": [],
   "source": [
    "data = TabularDataBunch.from_df(path, df=df, dep_var=dep_var, valid_idx=valid_idx, procs=procs, cat_names=cat_names)"
   ]
  },
  {
   "cell_type": "code",
   "execution_count": 37,
   "metadata": {},
   "outputs": [
    {
     "name": "stdout",
     "output_type": "stream",
     "text": [
      "['Bwd IAT Mean', ' Idle Min', 'Fwd IAT Mean', 'Active Mean', ' Flow IAT Mean', ' Active Min', 'Idle Mean', ' Idle Std', ' Flow IAT Std', ' Bwd IAT Std', ' Bwd IAT Max', ' Flow IAT Min', ' Idle Max', ' Active Max', ' Flow Duration', ' Fwd IAT Max', ' Bwd IAT Min', ' Flow IAT Max', ' Fwd IAT Std', ' Fwd IAT Min', ' Active Std']\n"
     ]
    }
   ],
   "source": [
    "print(data.train_ds.cont_names)"
   ]
  },
  {
   "cell_type": "code",
   "execution_count": 38,
   "metadata": {},
   "outputs": [
    {
     "name": "stdout",
     "output_type": "stream",
     "text": [
      "[[2]\n",
      " [1]\n",
      " [2]\n",
      " [1]\n",
      " [1]]\n",
      "[[-0.316996 -0.22741  -0.514487 -0.136785 ... -0.486834 -0.390062 -0.385063  0.      ]\n",
      " [-0.316996 -0.22741  -0.514268 -0.136785 ... -0.651504 -0.390062 -0.384831  0.      ]\n",
      " [-0.316996 -0.22741   0.125796 -0.136785 ... -0.205761 -0.390062  0.290181  0.      ]\n",
      " [ 8.392268  3.317098  4.086424 -0.130803 ...  2.551388 -0.390062  4.467065  0.      ]\n",
      " [-0.316996 -0.22741  -0.093071 -0.136785 ... -0.358182 -0.390062  0.059363  0.      ]]\n",
      "[1 0 1 1 1]\n"
     ]
    }
   ],
   "source": [
    "(cat_x,cont_x),y = next(iter(data.train_dl))\n",
    "for o in (cat_x, cont_x, y): print(to_np(o[:5]))"
   ]
  },
  {
   "cell_type": "code",
   "execution_count": 40,
   "metadata": {},
   "outputs": [
    {
     "data": {
      "text/html": [
       "Total time: 01:21 <p><table border=\"1\" class=\"dataframe\">\n",
       "  <thead>\n",
       "    <tr style=\"text-align: left;\">\n",
       "      <th>epoch</th>\n",
       "      <th>train_loss</th>\n",
       "      <th>valid_loss</th>\n",
       "      <th>accuracy</th>\n",
       "      <th>time</th>\n",
       "    </tr>\n",
       "  </thead>\n",
       "  <tbody>\n",
       "    <tr>\n",
       "      <td>0</td>\n",
       "      <td>0.112519</td>\n",
       "      <td>0.507697</td>\n",
       "      <td>0.862500</td>\n",
       "      <td>00:07</td>\n",
       "    </tr>\n",
       "    <tr>\n",
       "      <td>1</td>\n",
       "      <td>0.111023</td>\n",
       "      <td>0.419504</td>\n",
       "      <td>0.862050</td>\n",
       "      <td>00:07</td>\n",
       "    </tr>\n",
       "    <tr>\n",
       "      <td>2</td>\n",
       "      <td>0.126217</td>\n",
       "      <td>0.443633</td>\n",
       "      <td>0.840100</td>\n",
       "      <td>00:07</td>\n",
       "    </tr>\n",
       "    <tr>\n",
       "      <td>3</td>\n",
       "      <td>0.117807</td>\n",
       "      <td>0.395585</td>\n",
       "      <td>0.871200</td>\n",
       "      <td>00:08</td>\n",
       "    </tr>\n",
       "    <tr>\n",
       "      <td>4</td>\n",
       "      <td>0.097032</td>\n",
       "      <td>0.424563</td>\n",
       "      <td>0.868600</td>\n",
       "      <td>00:07</td>\n",
       "    </tr>\n",
       "    <tr>\n",
       "      <td>5</td>\n",
       "      <td>0.096824</td>\n",
       "      <td>0.459141</td>\n",
       "      <td>0.870200</td>\n",
       "      <td>00:08</td>\n",
       "    </tr>\n",
       "    <tr>\n",
       "      <td>6</td>\n",
       "      <td>0.093105</td>\n",
       "      <td>0.397575</td>\n",
       "      <td>0.875600</td>\n",
       "      <td>00:09</td>\n",
       "    </tr>\n",
       "    <tr>\n",
       "      <td>7</td>\n",
       "      <td>0.082963</td>\n",
       "      <td>0.401227</td>\n",
       "      <td>0.873800</td>\n",
       "      <td>00:09</td>\n",
       "    </tr>\n",
       "    <tr>\n",
       "      <td>8</td>\n",
       "      <td>0.085875</td>\n",
       "      <td>0.477138</td>\n",
       "      <td>0.874250</td>\n",
       "      <td>00:08</td>\n",
       "    </tr>\n",
       "    <tr>\n",
       "      <td>9</td>\n",
       "      <td>0.088798</td>\n",
       "      <td>0.337024</td>\n",
       "      <td>0.880250</td>\n",
       "      <td>00:07</td>\n",
       "    </tr>\n",
       "  </tbody>\n",
       "</table>"
      ],
      "text/plain": [
       "<IPython.core.display.HTML object>"
      ]
     },
     "metadata": {},
     "output_type": "display_data"
    }
   ],
   "source": [
    "learn = tabular_learner(data, layers=[200,100] , metrics=accuracy)\n",
    "learn.fit_one_cycle(10, 1e-2)"
   ]
  },
  {
   "cell_type": "code",
   "execution_count": 41,
   "metadata": {},
   "outputs": [
    {
     "data": {
      "text/plain": [
       "TabularModel(\n",
       "  (embeds): ModuleList(\n",
       "    (0): Embedding(3, 3)\n",
       "  )\n",
       "  (emb_drop): Dropout(p=0.0)\n",
       "  (bn_cont): BatchNorm1d(21, eps=1e-05, momentum=0.1, affine=True, track_running_stats=True)\n",
       "  (layers): Sequential(\n",
       "    (0): Linear(in_features=24, out_features=200, bias=True)\n",
       "    (1): ReLU(inplace)\n",
       "    (2): BatchNorm1d(200, eps=1e-05, momentum=0.1, affine=True, track_running_stats=True)\n",
       "    (3): Linear(in_features=200, out_features=100, bias=True)\n",
       "    (4): ReLU(inplace)\n",
       "    (5): BatchNorm1d(100, eps=1e-05, momentum=0.1, affine=True, track_running_stats=True)\n",
       "    (6): Linear(in_features=100, out_features=2, bias=True)\n",
       "  )\n",
       ")"
      ]
     },
     "execution_count": 41,
     "metadata": {},
     "output_type": "execute_result"
    }
   ],
   "source": [
    "learn.model"
   ]
  },
  {
   "cell_type": "code",
   "execution_count": 42,
   "metadata": {},
   "outputs": [
    {
     "data": {
      "text/html": [],
      "text/plain": [
       "<IPython.core.display.HTML object>"
      ]
     },
     "metadata": {},
     "output_type": "display_data"
    },
    {
     "name": "stdout",
     "output_type": "stream",
     "text": [
      "LR Finder is complete, type {learner_name}.recorder.plot() to see the graph.\n"
     ]
    }
   ],
   "source": [
    "learn.lr_find()"
   ]
  },
  {
   "cell_type": "code",
   "execution_count": 43,
   "metadata": {},
   "outputs": [
    {
     "data": {
      "image/png": "[encoded data removed]",
      "text/plain": [
       "<matplotlib.figure.Figure at 0x116061128>"
      ]
     },
     "metadata": {},
     "output_type": "display_data"
    }
   ],
   "source": [
    "learn.recorder.plot()"
   ]
  },
  {
   "cell_type": "code",
   "execution_count": 75,
   "metadata": {},
   "outputs": [
    {
     "data": {
      "text/html": [
       "Total time: 01:35 <p><table border=\"1\" class=\"dataframe\">\n",
       "  <thead>\n",
       "    <tr style=\"text-align: left;\">\n",
       "      <th>epoch</th>\n",
       "      <th>train_loss</th>\n",
       "      <th>valid_loss</th>\n",
       "      <th>accuracy</th>\n",
       "      <th>time</th>\n",
       "    </tr>\n",
       "  </thead>\n",
       "  <tbody>\n",
       "    <tr>\n",
       "      <td>0</td>\n",
       "      <td>0.145616</td>\n",
       "      <td>0.488331</td>\n",
       "      <td>0.813350</td>\n",
       "      <td>00:09</td>\n",
       "    </tr>\n",
       "    <tr>\n",
       "      <td>1</td>\n",
       "      <td>0.139240</td>\n",
       "      <td>0.686458</td>\n",
       "      <td>0.839400</td>\n",
       "      <td>00:10</td>\n",
       "    </tr>\n",
       "    <tr>\n",
       "      <td>2</td>\n",
       "      <td>0.146598</td>\n",
       "      <td>0.690323</td>\n",
       "      <td>0.627700</td>\n",
       "      <td>00:09</td>\n",
       "    </tr>\n",
       "    <tr>\n",
       "      <td>3</td>\n",
       "      <td>0.141008</td>\n",
       "      <td>0.550830</td>\n",
       "      <td>0.822000</td>\n",
       "      <td>00:09</td>\n",
       "    </tr>\n",
       "    <tr>\n",
       "      <td>4</td>\n",
       "      <td>0.148497</td>\n",
       "      <td>0.350394</td>\n",
       "      <td>0.831250</td>\n",
       "      <td>00:09</td>\n",
       "    </tr>\n",
       "    <tr>\n",
       "      <td>5</td>\n",
       "      <td>0.126197</td>\n",
       "      <td>0.318530</td>\n",
       "      <td>0.881950</td>\n",
       "      <td>00:09</td>\n",
       "    </tr>\n",
       "    <tr>\n",
       "      <td>6</td>\n",
       "      <td>0.119214</td>\n",
       "      <td>0.461521</td>\n",
       "      <td>0.807750</td>\n",
       "      <td>00:09</td>\n",
       "    </tr>\n",
       "    <tr>\n",
       "      <td>7</td>\n",
       "      <td>0.106822</td>\n",
       "      <td>0.396755</td>\n",
       "      <td>0.842300</td>\n",
       "      <td>00:09</td>\n",
       "    </tr>\n",
       "    <tr>\n",
       "      <td>8</td>\n",
       "      <td>0.091403</td>\n",
       "      <td>0.359550</td>\n",
       "      <td>0.871300</td>\n",
       "      <td>00:09</td>\n",
       "    </tr>\n",
       "    <tr>\n",
       "      <td>9</td>\n",
       "      <td>0.096924</td>\n",
       "      <td>0.389920</td>\n",
       "      <td>0.868000</td>\n",
       "      <td>00:09</td>\n",
       "    </tr>\n",
       "  </tbody>\n",
       "</table>"
      ],
      "text/plain": [
       "<IPython.core.display.HTML object>"
      ]
     },
     "metadata": {},
     "output_type": "display_data"
    }
   ],
   "source": [
    "learn = tabular_learner(data, layers=[200,100,50,20] , metrics=accuracy)\n",
    "learn.fit_one_cycle(10, 1e-1)"
   ]
  },
  {
   "cell_type": "code",
   "execution_count": 50,
   "metadata": {},
   "outputs": [
    {
     "data": {
      "text/html": [],
      "text/plain": [
       "<IPython.core.display.HTML object>"
      ]
     },
     "metadata": {},
     "output_type": "display_data"
    },
    {
     "name": "stdout",
     "output_type": "stream",
     "text": [
      "LR Finder is complete, type {learner_name}.recorder.plot() to see the graph.\n"
     ]
    },
    {
     "data": {
      "image/png": "[encoded data removed]",
      "text/plain": [
       "<matplotlib.figure.Figure at 0x100721da0>"
      ]
     },
     "metadata": {},
     "output_type": "display_data"
    }
   ],
   "source": [
    "learn.lr_find()\n",
    "learn.recorder.plot()"
   ]
  },
  {
   "cell_type": "code",
   "execution_count": 52,
   "metadata": {},
   "outputs": [
    {
     "data": {
      "text/plain": [
       "TabularModel(\n",
       "  (embeds): ModuleList(\n",
       "    (0): Embedding(3, 3)\n",
       "  )\n",
       "  (emb_drop): Dropout(p=0.0)\n",
       "  (bn_cont): BatchNorm1d(21, eps=1e-05, momentum=0.1, affine=True, track_running_stats=True)\n",
       "  (layers): Sequential(\n",
       "    (0): Linear(in_features=24, out_features=200, bias=True)\n",
       "    (1): ReLU(inplace)\n",
       "    (2): BatchNorm1d(200, eps=1e-05, momentum=0.1, affine=True, track_running_stats=True)\n",
       "    (3): Linear(in_features=200, out_features=100, bias=True)\n",
       "    (4): ReLU(inplace)\n",
       "    (5): BatchNorm1d(100, eps=1e-05, momentum=0.1, affine=True, track_running_stats=True)\n",
       "    (6): Linear(in_features=100, out_features=50, bias=True)\n",
       "    (7): ReLU(inplace)\n",
       "    (8): BatchNorm1d(50, eps=1e-05, momentum=0.1, affine=True, track_running_stats=True)\n",
       "    (9): Linear(in_features=50, out_features=20, bias=True)\n",
       "    (10): ReLU(inplace)\n",
       "    (11): BatchNorm1d(20, eps=1e-05, momentum=0.1, affine=True, track_running_stats=True)\n",
       "    (12): Linear(in_features=20, out_features=2, bias=True)\n",
       "  )\n",
       ")"
      ]
     },
     "execution_count": 52,
     "metadata": {},
     "output_type": "execute_result"
    }
   ],
   "source": [
    "learn.model"
   ]
  },
  {
   "cell_type": "code",
   "execution_count": 73,
   "metadata": {},
   "outputs": [
    {
     "data": {
      "image/png": "[encoded data removed]",
      "text/plain": [
       "<matplotlib.figure.Figure at 0x10096ff98>"
      ]
     },
     "metadata": {},
     "output_type": "display_data"
    }
   ],
   "source": [
    "learn.recorder.plot_losses()"
   ]
  },
  {
   "cell_type": "code",
   "execution_count": 12,
   "metadata": {},
   "outputs": [],
   "source": [
    "import xgboost as xgb"
   ]
  },
  {
   "cell_type": "code",
   "execution_count": 15,
   "metadata": {},
   "outputs": [
    {
     "name": "stderr",
     "output_type": "stream",
     "text": [
      "/Users/sahiljajodia/Projects/ML-Python/venv/lib/python3.6/site-packages/sklearn/preprocessing/label.py:151: DeprecationWarning: The truth value of an empty array is ambiguous. Returning False, but in future this will result in an error. Use `array.size > 0` to check that an array is not empty.\n",
      "  if diff:\n"
     ]
    }
   ],
   "source": [
    "xgdmat = xgb.XGBClassifier()\n",
    "# our_params={'eta':0.1,'seed':0,'subsample':0.8,'colsample_bytree':0.8,'objective':'reg:linear','max_depth':3,'min_child_weight':1}\n",
    "final_gb = xgdmat.fit(np.nan_to_num(X_train), y_train)\n",
    "# tesdmat=xgb.DMatrix(np.nan_to_num(X_test))\n",
    "pred1 = final_gb.predict(X_test)"
   ]
  },
  {
   "cell_type": "code",
   "execution_count": 16,
   "metadata": {},
   "outputs": [],
   "source": [
    "from sklearn.metrics import accuracy_score"
   ]
  },
  {
   "cell_type": "code",
   "execution_count": 18,
   "metadata": {},
   "outputs": [
    {
     "name": "stdout",
     "output_type": "stream",
     "text": [
      "Accuracy for model: 95.71\n"
     ]
    }
   ],
   "source": [
    "print(\"Accuracy for model: %.2f\" % (accuracy_score(y_test, pred1) * 100))"
   ]
  },
  {
   "cell_type": "code",
   "execution_count": null,
   "metadata": {},
   "outputs": [],
   "source": []
  }
 ],
 "metadata": {
  "kernelspec": {
   "display_name": "venv",
   "language": "python",
   "name": "venv"
  },
  "language_info": {
   "codemirror_mode": {
    "name": "ipython",
    "version": 3
   },
   "file_extension": ".py",
   "mimetype": "text/x-python",
   "name": "python",
   "nbconvert_exporter": "python",
   "pygments_lexer": "ipython3",
   "version": "3.6.4"
  }
 },
 "nbformat": 4,
 "nbformat_minor": 2
}
